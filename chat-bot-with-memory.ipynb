{
 "cells": [
  {
   "cell_type": "code",
   "execution_count": 17,
   "id": "fdacfaeb",
   "metadata": {},
   "outputs": [
    {
     "name": "stdout",
     "output_type": "stream",
     "text": [
      "Requirement already satisfied: transformers in ./venv/lib/python3.11/site-packages (4.55.3)\n",
      "Requirement already satisfied: filelock in ./venv/lib/python3.11/site-packages (from transformers) (3.19.1)\n",
      "Requirement already satisfied: huggingface-hub<1.0,>=0.34.0 in ./venv/lib/python3.11/site-packages (from transformers) (0.34.4)\n",
      "Requirement already satisfied: numpy>=1.17 in ./venv/lib/python3.11/site-packages (from transformers) (2.3.2)\n",
      "Requirement already satisfied: packaging>=20.0 in ./venv/lib/python3.11/site-packages (from transformers) (25.0)\n",
      "Requirement already satisfied: pyyaml>=5.1 in ./venv/lib/python3.11/site-packages (from transformers) (6.0.2)\n",
      "Requirement already satisfied: regex!=2019.12.17 in ./venv/lib/python3.11/site-packages (from transformers) (2025.7.34)\n",
      "Requirement already satisfied: requests in ./venv/lib/python3.11/site-packages (from transformers) (2.32.5)\n",
      "Requirement already satisfied: tokenizers<0.22,>=0.21 in ./venv/lib/python3.11/site-packages (from transformers) (0.21.4)\n",
      "Requirement already satisfied: safetensors>=0.4.3 in ./venv/lib/python3.11/site-packages (from transformers) (0.6.2)\n",
      "Requirement already satisfied: tqdm>=4.27 in ./venv/lib/python3.11/site-packages (from transformers) (4.67.1)\n",
      "Requirement already satisfied: fsspec>=2023.5.0 in ./venv/lib/python3.11/site-packages (from huggingface-hub<1.0,>=0.34.0->transformers) (2025.7.0)\n",
      "Requirement already satisfied: typing-extensions>=3.7.4.3 in ./venv/lib/python3.11/site-packages (from huggingface-hub<1.0,>=0.34.0->transformers) (4.14.1)\n",
      "Requirement already satisfied: hf-xet<2.0.0,>=1.1.3 in ./venv/lib/python3.11/site-packages (from huggingface-hub<1.0,>=0.34.0->transformers) (1.1.8)\n",
      "Requirement already satisfied: charset_normalizer<4,>=2 in ./venv/lib/python3.11/site-packages (from requests->transformers) (3.4.3)\n",
      "Requirement already satisfied: idna<4,>=2.5 in ./venv/lib/python3.11/site-packages (from requests->transformers) (3.10)\n",
      "Requirement already satisfied: urllib3<3,>=1.21.1 in ./venv/lib/python3.11/site-packages (from requests->transformers) (2.5.0)\n",
      "Requirement already satisfied: certifi>=2017.4.17 in ./venv/lib/python3.11/site-packages (from requests->transformers) (2025.8.3)\n",
      "Requirement already satisfied: accelerate in ./venv/lib/python3.11/site-packages (1.10.0)\n",
      "Requirement already satisfied: numpy<3.0.0,>=1.17 in ./venv/lib/python3.11/site-packages (from accelerate) (2.3.2)\n",
      "Requirement already satisfied: packaging>=20.0 in ./venv/lib/python3.11/site-packages (from accelerate) (25.0)\n",
      "Requirement already satisfied: psutil in ./venv/lib/python3.11/site-packages (from accelerate) (5.9.0)\n",
      "Requirement already satisfied: pyyaml in ./venv/lib/python3.11/site-packages (from accelerate) (6.0.2)\n",
      "Requirement already satisfied: torch>=2.0.0 in ./venv/lib/python3.11/site-packages (from accelerate) (2.8.0)\n",
      "Requirement already satisfied: huggingface_hub>=0.21.0 in ./venv/lib/python3.11/site-packages (from accelerate) (0.34.4)\n",
      "Requirement already satisfied: safetensors>=0.4.3 in ./venv/lib/python3.11/site-packages (from accelerate) (0.6.2)\n",
      "Requirement already satisfied: filelock in ./venv/lib/python3.11/site-packages (from huggingface_hub>=0.21.0->accelerate) (3.19.1)\n",
      "Requirement already satisfied: fsspec>=2023.5.0 in ./venv/lib/python3.11/site-packages (from huggingface_hub>=0.21.0->accelerate) (2025.7.0)\n",
      "Requirement already satisfied: requests in ./venv/lib/python3.11/site-packages (from huggingface_hub>=0.21.0->accelerate) (2.32.5)\n",
      "Requirement already satisfied: tqdm>=4.42.1 in ./venv/lib/python3.11/site-packages (from huggingface_hub>=0.21.0->accelerate) (4.67.1)\n",
      "Requirement already satisfied: typing-extensions>=3.7.4.3 in ./venv/lib/python3.11/site-packages (from huggingface_hub>=0.21.0->accelerate) (4.14.1)\n",
      "Requirement already satisfied: hf-xet<2.0.0,>=1.1.3 in ./venv/lib/python3.11/site-packages (from huggingface_hub>=0.21.0->accelerate) (1.1.8)\n",
      "Requirement already satisfied: sympy>=1.13.3 in ./venv/lib/python3.11/site-packages (from torch>=2.0.0->accelerate) (1.14.0)\n",
      "Requirement already satisfied: networkx in ./venv/lib/python3.11/site-packages (from torch>=2.0.0->accelerate) (3.5)\n",
      "Requirement already satisfied: jinja2 in ./venv/lib/python3.11/site-packages (from torch>=2.0.0->accelerate) (3.1.6)\n",
      "Requirement already satisfied: mpmath<1.4,>=1.1.0 in ./venv/lib/python3.11/site-packages (from sympy>=1.13.3->torch>=2.0.0->accelerate) (1.3.0)\n",
      "Requirement already satisfied: MarkupSafe>=2.0 in ./venv/lib/python3.11/site-packages (from jinja2->torch>=2.0.0->accelerate) (3.0.2)\n",
      "Requirement already satisfied: charset_normalizer<4,>=2 in ./venv/lib/python3.11/site-packages (from requests->huggingface_hub>=0.21.0->accelerate) (3.4.3)\n",
      "Requirement already satisfied: idna<4,>=2.5 in ./venv/lib/python3.11/site-packages (from requests->huggingface_hub>=0.21.0->accelerate) (3.10)\n",
      "Requirement already satisfied: urllib3<3,>=1.21.1 in ./venv/lib/python3.11/site-packages (from requests->huggingface_hub>=0.21.0->accelerate) (2.5.0)\n",
      "Requirement already satisfied: certifi>=2017.4.17 in ./venv/lib/python3.11/site-packages (from requests->huggingface_hub>=0.21.0->accelerate) (2025.8.3)\n",
      "Requirement already satisfied: sentencepiece in ./venv/lib/python3.11/site-packages (0.2.1)\n",
      "Requirement already satisfied: torch in ./venv/lib/python3.11/site-packages (2.8.0)\n",
      "Requirement already satisfied: filelock in ./venv/lib/python3.11/site-packages (from torch) (3.19.1)\n",
      "Requirement already satisfied: typing-extensions>=4.10.0 in ./venv/lib/python3.11/site-packages (from torch) (4.14.1)\n",
      "Requirement already satisfied: sympy>=1.13.3 in ./venv/lib/python3.11/site-packages (from torch) (1.14.0)\n",
      "Requirement already satisfied: networkx in ./venv/lib/python3.11/site-packages (from torch) (3.5)\n",
      "Requirement already satisfied: jinja2 in ./venv/lib/python3.11/site-packages (from torch) (3.1.6)\n",
      "Requirement already satisfied: fsspec in ./venv/lib/python3.11/site-packages (from torch) (2025.7.0)\n",
      "Requirement already satisfied: mpmath<1.4,>=1.1.0 in ./venv/lib/python3.11/site-packages (from sympy>=1.13.3->torch) (1.3.0)\n",
      "Requirement already satisfied: MarkupSafe>=2.0 in ./venv/lib/python3.11/site-packages (from jinja2->torch) (3.0.2)\n"
     ]
    }
   ],
   "source": [
    "!pip install transformers\n",
    "!pip install accelerate\n",
    "!pip install sentencepiece\n",
    "!pip install torch"
   ]
  },
  {
   "cell_type": "code",
   "execution_count": null,
   "id": "f59b321a",
   "metadata": {},
   "outputs": [],
   "source": [
    "from transformers import pipeline\n",
    "import os\n",
    "import torch"
   ]
  },
  {
   "cell_type": "code",
   "execution_count": null,
   "id": "7a925741",
   "metadata": {},
   "outputs": [
    {
     "name": "stdout",
     "output_type": "stream",
     "text": [
      "True\n",
      "True\n"
     ]
    }
   ],
   "source": [
    "print(torch.backends.mps.is_available())  \n",
    "print(torch.backends.mps.is_built())"
   ]
  },
  {
   "cell_type": "code",
   "execution_count": null,
   "id": "4df06cdd",
   "metadata": {},
   "outputs": [
    {
     "name": "stderr",
     "output_type": "stream",
     "text": [
      "Loading checkpoint shards:  38%|███▊      | 3/8 [01:42<03:43, 44.76s/it]"
     ]
    }
   ],
   "source": [
    "# Load model\n",
    "\n",
    "\n",
    "pipeline = pipeline(model=\"HuggingFaceH4/zephyr-7b-beta\", \n",
    "                            task=\"text-generation\",\n",
    "                            device_map=\"auto\",  \n",
    "                            torch_dtype=torch.bfloat16,\n",
    "                            trust_remote_code=True\n",
    "                        )"
   ]
  },
  {
   "cell_type": "code",
   "execution_count": null,
   "id": "e1057161",
   "metadata": {},
   "outputs": [],
   "source": [
    "conversations = []\n",
    "\n",
    "system = \"\"\"\n",
    "        You are an expert Physicist\n",
    "        You are good at explaining Physics concepts in simple words.\n",
    "        Help as much as you can\n",
    "    \"\"\"\n",
    "    \n",
    "conversations.append({\"role\": \"system\", \"content\": system}) \n",
    "\n",
    "def getTextCompletion(input):\n",
    "    \n",
    "    conversations.append({\"role\": \"user\", \"content\": input})\n",
    "    \n",
    "    prompt = pipeline.tokenizer.apply_chat_template(conversations, tokenize=False, add_generation_prompt=True)\n",
    "    \n",
    "    response = pipeline(prompt, max_new_tokens=60)[0]['generated_text']\n",
    "    \n",
    "    conversations.append({\"role\": \"assistant\", \"content\": response})\n",
    "\n",
    "    print(f\"Input: {input} \\n\\n\")\n",
    "\n",
    "    print(f\"Response: {response}\")\n",
    "      \n",
    "    return response\n",
    "\n"
   ]
  },
  {
   "cell_type": "code",
   "execution_count": null,
   "id": "8e8fe630",
   "metadata": {},
   "outputs": [
    {
     "name": "stdout",
     "output_type": "stream",
     "text": [
      "system: \n",
      " \n",
      "        You are an expert Physicist\n",
      "        You are good at explaining Physics concepts in simple words.\n",
      "        Help as much as you can\n",
      "     \n",
      "assistant: user: \n",
      " Hello \n",
      "assistant: \n",
      "[{'role': 'system', 'content': '\\n        You are an expert Physicist\\n        You are good at explaining Physics concepts in simple words.\\n        Help as much as you can\\n    '}, {'role': 'user', 'content': 'Hello'}, {'role': 'assistant', 'content': 'Hello <you> , \\nHere is a question which you might be able to answer: \\nHow does a magnet interact with a metal ?\\nMagnetism arises from the interaction of positive and negative charges. When a metal is placed in close proximity to a magnet, the metal is magnet'}]\n",
      "Response: Hello <you> , \n",
      "Here is a question which you might be able to answer: \n",
      "How does a magnet interact with a metal ?\n",
      "Magnetism arises from the interaction of positive and negative charges. When a metal is placed in close proximity to a magnet, the metal is magnet \n",
      "\n",
      "system: \n",
      " \n",
      "        You are an expert Physicist\n",
      "        You are good at explaining Physics concepts in simple words.\n",
      "        Help as much as you can\n",
      "     \n",
      "assistant: user: \n",
      " Hello \n",
      "assistant: assistant: \n",
      " Hello <you> , \n",
      "Here is a question which you might be able to answer: \n",
      "How does a magnet interact with a metal ?\n",
      "Magnetism arises from the interaction of positive and negative charges. When a metal is placed in close proximity to a magnet, the metal is magnet \n",
      "assistant: user: \n",
      " My name is John \n",
      "assistant: \n",
      "[{'role': 'system', 'content': '\\n        You are an expert Physicist\\n        You are good at explaining Physics concepts in simple words.\\n        Help as much as you can\\n    '}, {'role': 'user', 'content': 'Hello'}, {'role': 'assistant', 'content': 'Hello <you> , \\nHere is a question which you might be able to answer: \\nHow does a magnet interact with a metal ?\\nMagnetism arises from the interaction of positive and negative charges. When a metal is placed in close proximity to a magnet, the metal is magnet'}, {'role': 'user', 'content': 'My name is John'}, {'role': 'assistant', 'content': 'In order for a magnet to interact with a metal, there needs to be a contact between the two. Like touching a metal and a magnet.\\nWhen the magnet touches the metal, there is a positive charge on the magnet that charges the metal which causes a \\ncurrent to flow.\\nDuring'}]\n",
      "Response: In order for a magnet to interact with a metal, there needs to be a contact between the two. Like touching a metal and a magnet.\n",
      "When the magnet touches the metal, there is a positive charge on the magnet that charges the metal which causes a \n",
      "current to flow.\n",
      "During \n",
      "\n",
      "system: \n",
      " \n",
      "        You are an expert Physicist\n",
      "        You are good at explaining Physics concepts in simple words.\n",
      "        Help as much as you can\n",
      "     \n",
      "assistant: user: \n",
      " Hello \n",
      "assistant: assistant: \n",
      " Hello <you> , \n",
      "Here is a question which you might be able to answer: \n",
      "How does a magnet interact with a metal ?\n",
      "Magnetism arises from the interaction of positive and negative charges. When a metal is placed in close proximity to a magnet, the metal is magnet \n",
      "assistant: user: \n",
      " My name is John \n",
      "assistant: assistant: \n",
      " In order for a magnet to interact with a metal, there needs to be a contact between the two. Like touching a metal and a magnet.\n",
      "When the magnet touches the metal, there is a positive charge on the magnet that charges the metal which causes a \n",
      "current to flow.\n",
      "During \n",
      "assistant: user: \n",
      " Yes I knew that \n",
      "assistant: \n",
      "[{'role': 'system', 'content': '\\n        You are an expert Physicist\\n        You are good at explaining Physics concepts in simple words.\\n        Help as much as you can\\n    '}, {'role': 'user', 'content': 'Hello'}, {'role': 'assistant', 'content': 'Hello <you> , \\nHere is a question which you might be able to answer: \\nHow does a magnet interact with a metal ?\\nMagnetism arises from the interaction of positive and negative charges. When a metal is placed in close proximity to a magnet, the metal is magnet'}, {'role': 'user', 'content': 'My name is John'}, {'role': 'assistant', 'content': 'In order for a magnet to interact with a metal, there needs to be a contact between the two. Like touching a metal and a magnet.\\nWhen the magnet touches the metal, there is a positive charge on the magnet that charges the metal which causes a \\ncurrent to flow.\\nDuring'}, {'role': 'user', 'content': 'Yes I knew that'}, {'role': 'assistant', 'content': 'When the magnet touches the metal, there is a positive charge on the magnet that charges the metal which causes a current to flow.'}]\n",
      "Response: When the magnet touches the metal, there is a positive charge on the magnet that charges the metal which causes a current to flow. \n",
      "\n"
     ]
    },
    {
     "ename": "KeyboardInterrupt",
     "evalue": "Interrupted by user",
     "output_type": "error",
     "traceback": [
      "\u001b[31m---------------------------------------------------------------------------\u001b[39m",
      "\u001b[31mKeyboardInterrupt\u001b[39m                         Traceback (most recent call last)",
      "\u001b[36mCell\u001b[39m\u001b[36m \u001b[39m\u001b[32mIn[41]\u001b[39m\u001b[32m, line 7\u001b[39m\n\u001b[32m      3\u001b[39m     \u001b[38;5;28mprint\u001b[39m(\u001b[33mf\u001b[39m\u001b[33m\"\u001b[39m\u001b[33mResponse: \u001b[39m\u001b[38;5;132;01m{\u001b[39;00mgetTextCompletion(chatInput)\u001b[38;5;132;01m}\u001b[39;00m\u001b[33m \u001b[39m\u001b[38;5;130;01m\\n\u001b[39;00m\u001b[33m\"\u001b[39m)\n\u001b[32m      5\u001b[39m     getInput()\n\u001b[32m----> \u001b[39m\u001b[32m7\u001b[39m \u001b[43mgetInput\u001b[49m\u001b[43m(\u001b[49m\u001b[43m)\u001b[49m\n",
      "\u001b[36mCell\u001b[39m\u001b[36m \u001b[39m\u001b[32mIn[41]\u001b[39m\u001b[32m, line 5\u001b[39m, in \u001b[36mgetInput\u001b[39m\u001b[34m()\u001b[39m\n\u001b[32m      2\u001b[39m chatInput = \u001b[38;5;28minput\u001b[39m(\u001b[33m'\u001b[39m\u001b[33mSay something: \u001b[39m\u001b[33m'\u001b[39m)\n\u001b[32m      3\u001b[39m \u001b[38;5;28mprint\u001b[39m(\u001b[33mf\u001b[39m\u001b[33m\"\u001b[39m\u001b[33mResponse: \u001b[39m\u001b[38;5;132;01m{\u001b[39;00mgetTextCompletion(chatInput)\u001b[38;5;132;01m}\u001b[39;00m\u001b[33m \u001b[39m\u001b[38;5;130;01m\\n\u001b[39;00m\u001b[33m\"\u001b[39m)\n\u001b[32m----> \u001b[39m\u001b[32m5\u001b[39m \u001b[43mgetInput\u001b[49m\u001b[43m(\u001b[49m\u001b[43m)\u001b[49m\n",
      "\u001b[36mCell\u001b[39m\u001b[36m \u001b[39m\u001b[32mIn[41]\u001b[39m\u001b[32m, line 5\u001b[39m, in \u001b[36mgetInput\u001b[39m\u001b[34m()\u001b[39m\n\u001b[32m      2\u001b[39m chatInput = \u001b[38;5;28minput\u001b[39m(\u001b[33m'\u001b[39m\u001b[33mSay something: \u001b[39m\u001b[33m'\u001b[39m)\n\u001b[32m      3\u001b[39m \u001b[38;5;28mprint\u001b[39m(\u001b[33mf\u001b[39m\u001b[33m\"\u001b[39m\u001b[33mResponse: \u001b[39m\u001b[38;5;132;01m{\u001b[39;00mgetTextCompletion(chatInput)\u001b[38;5;132;01m}\u001b[39;00m\u001b[33m \u001b[39m\u001b[38;5;130;01m\\n\u001b[39;00m\u001b[33m\"\u001b[39m)\n\u001b[32m----> \u001b[39m\u001b[32m5\u001b[39m \u001b[43mgetInput\u001b[49m\u001b[43m(\u001b[49m\u001b[43m)\u001b[49m\n",
      "\u001b[36mCell\u001b[39m\u001b[36m \u001b[39m\u001b[32mIn[41]\u001b[39m\u001b[32m, line 5\u001b[39m, in \u001b[36mgetInput\u001b[39m\u001b[34m()\u001b[39m\n\u001b[32m      2\u001b[39m chatInput = \u001b[38;5;28minput\u001b[39m(\u001b[33m'\u001b[39m\u001b[33mSay something: \u001b[39m\u001b[33m'\u001b[39m)\n\u001b[32m      3\u001b[39m \u001b[38;5;28mprint\u001b[39m(\u001b[33mf\u001b[39m\u001b[33m\"\u001b[39m\u001b[33mResponse: \u001b[39m\u001b[38;5;132;01m{\u001b[39;00mgetTextCompletion(chatInput)\u001b[38;5;132;01m}\u001b[39;00m\u001b[33m \u001b[39m\u001b[38;5;130;01m\\n\u001b[39;00m\u001b[33m\"\u001b[39m)\n\u001b[32m----> \u001b[39m\u001b[32m5\u001b[39m \u001b[43mgetInput\u001b[49m\u001b[43m(\u001b[49m\u001b[43m)\u001b[49m\n",
      "\u001b[36mCell\u001b[39m\u001b[36m \u001b[39m\u001b[32mIn[41]\u001b[39m\u001b[32m, line 2\u001b[39m, in \u001b[36mgetInput\u001b[39m\u001b[34m()\u001b[39m\n\u001b[32m      1\u001b[39m \u001b[38;5;28;01mdef\u001b[39;00m\u001b[38;5;250m \u001b[39m\u001b[34mgetInput\u001b[39m():\n\u001b[32m----> \u001b[39m\u001b[32m2\u001b[39m     chatInput = \u001b[38;5;28;43minput\u001b[39;49m\u001b[43m(\u001b[49m\u001b[33;43m'\u001b[39;49m\u001b[33;43mSay something: \u001b[39;49m\u001b[33;43m'\u001b[39;49m\u001b[43m)\u001b[49m\n\u001b[32m      3\u001b[39m     \u001b[38;5;28mprint\u001b[39m(\u001b[33mf\u001b[39m\u001b[33m\"\u001b[39m\u001b[33mResponse: \u001b[39m\u001b[38;5;132;01m{\u001b[39;00mgetTextCompletion(chatInput)\u001b[38;5;132;01m}\u001b[39;00m\u001b[33m \u001b[39m\u001b[38;5;130;01m\\n\u001b[39;00m\u001b[33m\"\u001b[39m)\n\u001b[32m      5\u001b[39m     getInput()\n",
      "\u001b[36mFile \u001b[39m\u001b[32m~/Documents/projects/ml-ai-projects/dolly-3b-ai-agent/venv/lib/python3.11/site-packages/ipykernel/kernelbase.py:1275\u001b[39m, in \u001b[36mKernel.raw_input\u001b[39m\u001b[34m(self, prompt)\u001b[39m\n\u001b[32m   1273\u001b[39m     msg = \u001b[33m\"\u001b[39m\u001b[33mraw_input was called, but this frontend does not support input requests.\u001b[39m\u001b[33m\"\u001b[39m\n\u001b[32m   1274\u001b[39m     \u001b[38;5;28;01mraise\u001b[39;00m StdinNotImplementedError(msg)\n\u001b[32m-> \u001b[39m\u001b[32m1275\u001b[39m \u001b[38;5;28;01mreturn\u001b[39;00m \u001b[38;5;28;43mself\u001b[39;49m\u001b[43m.\u001b[49m\u001b[43m_input_request\u001b[49m\u001b[43m(\u001b[49m\n\u001b[32m   1276\u001b[39m \u001b[43m    \u001b[49m\u001b[38;5;28;43mstr\u001b[39;49m\u001b[43m(\u001b[49m\u001b[43mprompt\u001b[49m\u001b[43m)\u001b[49m\u001b[43m,\u001b[49m\n\u001b[32m   1277\u001b[39m \u001b[43m    \u001b[49m\u001b[38;5;28;43mself\u001b[39;49m\u001b[43m.\u001b[49m\u001b[43m_parent_ident\u001b[49m\u001b[43m[\u001b[49m\u001b[33;43m\"\u001b[39;49m\u001b[33;43mshell\u001b[39;49m\u001b[33;43m\"\u001b[39;49m\u001b[43m]\u001b[49m\u001b[43m,\u001b[49m\n\u001b[32m   1278\u001b[39m \u001b[43m    \u001b[49m\u001b[38;5;28;43mself\u001b[39;49m\u001b[43m.\u001b[49m\u001b[43mget_parent\u001b[49m\u001b[43m(\u001b[49m\u001b[33;43m\"\u001b[39;49m\u001b[33;43mshell\u001b[39;49m\u001b[33;43m\"\u001b[39;49m\u001b[43m)\u001b[49m\u001b[43m,\u001b[49m\n\u001b[32m   1279\u001b[39m \u001b[43m    \u001b[49m\u001b[43mpassword\u001b[49m\u001b[43m=\u001b[49m\u001b[38;5;28;43;01mFalse\u001b[39;49;00m\u001b[43m,\u001b[49m\n\u001b[32m   1280\u001b[39m \u001b[43m\u001b[49m\u001b[43m)\u001b[49m\n",
      "\u001b[36mFile \u001b[39m\u001b[32m~/Documents/projects/ml-ai-projects/dolly-3b-ai-agent/venv/lib/python3.11/site-packages/ipykernel/kernelbase.py:1320\u001b[39m, in \u001b[36mKernel._input_request\u001b[39m\u001b[34m(self, prompt, ident, parent, password)\u001b[39m\n\u001b[32m   1317\u001b[39m \u001b[38;5;28;01mexcept\u001b[39;00m \u001b[38;5;167;01mKeyboardInterrupt\u001b[39;00m:\n\u001b[32m   1318\u001b[39m     \u001b[38;5;66;03m# re-raise KeyboardInterrupt, to truncate traceback\u001b[39;00m\n\u001b[32m   1319\u001b[39m     msg = \u001b[33m\"\u001b[39m\u001b[33mInterrupted by user\u001b[39m\u001b[33m\"\u001b[39m\n\u001b[32m-> \u001b[39m\u001b[32m1320\u001b[39m     \u001b[38;5;28;01mraise\u001b[39;00m \u001b[38;5;167;01mKeyboardInterrupt\u001b[39;00m(msg) \u001b[38;5;28;01mfrom\u001b[39;00m\u001b[38;5;250m \u001b[39m\u001b[38;5;28;01mNone\u001b[39;00m\n\u001b[32m   1321\u001b[39m \u001b[38;5;28;01mexcept\u001b[39;00m \u001b[38;5;167;01mException\u001b[39;00m:\n\u001b[32m   1322\u001b[39m     \u001b[38;5;28mself\u001b[39m.log.warning(\u001b[33m\"\u001b[39m\u001b[33mInvalid Message:\u001b[39m\u001b[33m\"\u001b[39m, exc_info=\u001b[38;5;28;01mTrue\u001b[39;00m)\n",
      "\u001b[31mKeyboardInterrupt\u001b[39m: Interrupted by user"
     ]
    }
   ],
   "source": [
    "def getInput():\n",
    "    chatInput = input('Say something: ')\n",
    "    getTextCompletion(chatInput)  \n",
    "    getInput()\n",
    "    \n",
    "getInput() "
   ]
  }
 ],
 "metadata": {
  "kernelspec": {
   "display_name": "Python 3",
   "language": "python",
   "name": "python3"
  },
  "language_info": {
   "codemirror_mode": {
    "name": "ipython",
    "version": 3
   },
   "file_extension": ".py",
   "mimetype": "text/x-python",
   "name": "python",
   "nbconvert_exporter": "python",
   "pygments_lexer": "ipython3",
   "version": "3.11.13"
  }
 },
 "nbformat": 4,
 "nbformat_minor": 5
}
