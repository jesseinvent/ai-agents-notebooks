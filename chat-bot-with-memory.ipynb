{
 "cells": [
  {
   "cell_type": "markdown",
   "id": "a76ba1a8",
   "metadata": {},
   "source": [
    "## AI chatbot with memory of past conversations"
   ]
  },
  {
   "cell_type": "code",
   "execution_count": null,
   "id": "fdacfaeb",
   "metadata": {},
   "outputs": [],
   "source": [
    "!pip install transformers==4.25.1\n",
    "!pip install accelerate\n",
    "!pip install sentencepiece\n",
    "!pip install torch"
   ]
  },
  {
   "cell_type": "code",
   "execution_count": null,
   "id": "f59b321a",
   "metadata": {},
   "outputs": [],
   "source": [
    "from transformers.generation.utils import GenerationMixin\n",
    "from transformers import pipeline\n",
    "import os\n",
    "import torch"
   ]
  },
  {
   "cell_type": "code",
   "execution_count": null,
   "id": "4df06cdd",
   "metadata": {},
   "outputs": [
    {
     "name": "stderr",
     "output_type": "stream",
     "text": [
      "Loading checkpoint shards: 100%|██████████| 8/8 [00:02<00:00,  2.77it/s]\n",
      "Some parameters are on the meta device because they were offloaded to the disk.\n",
      "Device set to use mps\n"
     ]
    }
   ],
   "source": [
    "# Load model\n",
    "\n",
    "pipeline = pipeline(model=\"HuggingFaceH4/zephyr-7b-beta\", \n",
    "                            task=\"text-generation\",\n",
    "                            device_map=\"auto\",  \n",
    "                            torch_dtype=torch.bfloat16,\n",
    "                            trust_remote_code=True\n",
    "                        )"
   ]
  },
  {
   "cell_type": "code",
   "execution_count": null,
   "id": "e1057161",
   "metadata": {},
   "outputs": [],
   "source": [
    "conversations = []\n",
    "\n",
    "system = \"\"\"\n",
    "        You are an educative chatbot\n",
    "        Help as much as you can by answering questions about Bitcoin\n",
    "    \"\"\"\n",
    "\n",
    "context = \"\"\"\n",
    "    Bitcoin was created in 2009 by the pseudonymous developer Satoshi Nakamoto.\n",
    "    It is a decentralized digital currency that operates without a central authority or government.\n",
    "    The total supply of Bitcoin is capped at 21 million coins, making it scarce by design.\n",
    "    Bitcoin transactions are recorded on a public blockchain ledger that is immutable and transparent. \n",
    "    New bitcoins are created through a process called mining, where computers solve cryptographic puzzles.\n",
    "    Bitcoin’s smallest unit is called a satoshi (sat), equal to 0.00000001 BTC.\n",
    "    Transactions are validated by nodes across the network through the Proof of Work (PoW) consensus mechanism.\n",
    "    Bitcoin is often referred to as “digital gold” because it is considered a store of value.\n",
    "    The first real-world Bitcoin transaction was in 2010, when a programmer paid 10,000 BTC for two pizzas.\n",
    "    Bitcoin is highly volatile in price and is traded worldwide on crypto exchanges.\n",
    "    Bitcoin price is currently $108842.86\n",
    "  \"\"\"    \n",
    "conversations.append({\"role\": \"system\", \"content\": system}) \n",
    "\n",
    "def getTextCompletion(input):\n",
    "    \n",
    "    conversations.append({\"role\": \"user\", \"content\": f\"Context: \\n {context} \\n\\n user: \\n{input}\"})\n",
    "    \n",
    "    prompt = pipeline.tokenizer.apply_chat_template(\n",
    "        conversations, \n",
    "        tokenize=False, \n",
    "        add_generation_prompt=True,\n",
    "        )\n",
    "    \n",
    "    response = pipeline(\n",
    "              prompt, \n",
    "              max_new_tokens=60,\n",
    "              return_full_text=False\n",
    "            )[0]['generated_text']\n",
    "    \n",
    "    conversations.append({\"role\": \"assistant\", \"content\": response})\n",
    "\n",
    "    # print(f\"Input: {input} \\n\\n\")\n",
    "\n",
    "    # print(f\"Response: {response}\")\n",
    "      \n",
    "    return response"
   ]
  },
  {
   "cell_type": "code",
   "execution_count": null,
   "id": "8e8fe630",
   "metadata": {},
   "outputs": [
    {
     "name": "stdout",
     "output_type": "stream",
     "text": [
      "Input: Hello \n",
      "\n",
      "\n",
      "Response: <|system|>\n",
      "\n",
      "        You are an expert Physicist\n",
      "        You are good at explaining Physics concepts in simple words.\n",
      "        Help as much as you can\n",
      "    </s>\n",
      "<|user|>\n",
      "Hello</s>\n",
      "<|assistant|>\n",
      "Hello! I'm here to help you understand various physics concepts in simple and easy-to-understand terms. Whether you're a student struggling with a particular topic or just someone curious about the wonders of the physical world, I'm here to provide explanations, examples, and\n",
      "Input: hi \n",
      "\n",
      "\n",
      "Response: <|system|>\n",
      "\n",
      "        You are an expert Physicist\n",
      "        You are good at explaining Physics concepts in simple words.\n",
      "        Help as much as you can\n",
      "    </s>\n",
      "<|user|>\n",
      "Hello</s>\n",
      "<|assistant|>\n",
      "<|system|>\n",
      "\n",
      "        You are an expert Physicist\n",
      "        You are good at explaining Physics concepts in simple words.\n",
      "        Help as much as you can\n",
      "    </s>\n",
      "<|user|>\n",
      "Hello</s>\n",
      "<|assistant|>\n",
      "Hello! I'm here to help you understand various physics concepts in simple and easy-to-understand terms. Whether you're a student struggling with a particular topic or just someone curious about the wonders of the physical world, I'm here to provide explanations, examples, and</s>\n",
      "<|user|>\n",
      "hi</s>\n",
      "<|assistant|>\n",
      "Hi there! I'm happy to help you understand physics concepts in simpler terms. Whether you're a student struggling with a particular topic or just someone curious about the wonders of the physical world, I'm here to provide explanations, examples, and visuals to make physics more accessible\n"
     ]
    }
   ],
   "source": [
    "def getInput():\n",
    "    chatInput = input('Say something: ')\n",
    "    print(getTextCompletion(chatInput)) \n",
    "    getInput()\n",
    "    \n",
    "getInput() "
   ]
  }
 ],
 "metadata": {
  "kernelspec": {
   "display_name": "Python 3",
   "language": "python",
   "name": "python3"
  },
  "language_info": {
   "codemirror_mode": {
    "name": "ipython",
    "version": 3
   },
   "file_extension": ".py",
   "mimetype": "text/x-python",
   "name": "python",
   "nbconvert_exporter": "python",
   "pygments_lexer": "ipython3",
   "version": "3.11.13"
  }
 },
 "nbformat": 4,
 "nbformat_minor": 5
}
